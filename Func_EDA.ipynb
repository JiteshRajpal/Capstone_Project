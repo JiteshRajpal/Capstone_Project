{
 "cells": [
  {
   "cell_type": "code",
   "execution_count": 1,
   "id": "33ab217d-3dfc-4fc9-8850-bd33fae5daf4",
   "metadata": {
    "tags": []
   },
   "outputs": [
    {
     "name": "stderr",
     "output_type": "stream",
     "text": [
      "C:\\Users\\Sannan Dabir\\anaconda3\\Lib\\site-packages\\pandas\\core\\arrays\\masked.py:60: UserWarning: Pandas requires version '1.3.6' or newer of 'bottleneck' (version '1.3.5' currently installed).\n",
      "  from pandas.core import (\n"
     ]
    }
   ],
   "source": [
    "import numpy as np, pandas as pd"
   ]
  },
  {
   "cell_type": "code",
   "execution_count": 13,
   "id": "15ed589e-14a9-40f3-bd48-bfbc74b5c35a",
   "metadata": {
    "tags": []
   },
   "outputs": [],
   "source": [
    "import matplotlib.pyplot as plt, seaborn as sns"
   ]
  },
  {
   "cell_type": "code",
   "execution_count": 2,
   "id": "9b9cbf5b-7943-4eca-b930-51641ba01517",
   "metadata": {
    "tags": []
   },
   "outputs": [
    {
     "name": "stderr",
     "output_type": "stream",
     "text": [
      "C:\\Users\\Sannan Dabir\\AppData\\Local\\Temp\\ipykernel_4660\\2719934229.py:1: DtypeWarning: Columns (21) have mixed types. Specify dtype option on import or set low_memory=False.\n",
      "  data = pd.read_csv(\"Main_Working_Data.csv\")\n"
     ]
    }
   ],
   "source": [
    "data = pd.read_csv(\"Main_Working_Data.csv\")"
   ]
  },
  {
   "cell_type": "code",
   "execution_count": 3,
   "id": "a4ea531f-1587-4d33-899f-31d56ec3d278",
   "metadata": {
    "tags": []
   },
   "outputs": [
    {
     "data": {
      "text/html": [
       "<div>\n",
       "<style scoped>\n",
       "    .dataframe tbody tr th:only-of-type {\n",
       "        vertical-align: middle;\n",
       "    }\n",
       "\n",
       "    .dataframe tbody tr th {\n",
       "        vertical-align: top;\n",
       "    }\n",
       "\n",
       "    .dataframe thead th {\n",
       "        text-align: right;\n",
       "    }\n",
       "</style>\n",
       "<table border=\"1\" class=\"dataframe\">\n",
       "  <thead>\n",
       "    <tr style=\"text-align: right;\">\n",
       "      <th></th>\n",
       "      <th>placed_date</th>\n",
       "      <th>store_id</th>\n",
       "      <th>item_id</th>\n",
       "      <th>mrp</th>\n",
       "      <th>qty</th>\n",
       "      <th>item_code</th>\n",
       "      <th>l1_category</th>\n",
       "      <th>l0_category</th>\n",
       "      <th>l2_category</th>\n",
       "      <th>season</th>\n",
       "      <th>...</th>\n",
       "      <th>item_occasion</th>\n",
       "      <th>item_gender</th>\n",
       "      <th>item_neck_type</th>\n",
       "      <th>item_sleeve_length</th>\n",
       "      <th>item_topwear_length</th>\n",
       "      <th>item_brand_name</th>\n",
       "      <th>item_age_group</th>\n",
       "      <th>initial_introduction_date</th>\n",
       "      <th>days_since_introduction</th>\n",
       "      <th>initial_mrp</th>\n",
       "    </tr>\n",
       "  </thead>\n",
       "  <tbody>\n",
       "    <tr>\n",
       "      <th>0</th>\n",
       "      <td>2022-02-18</td>\n",
       "      <td>9908</td>\n",
       "      <td>8901241000649</td>\n",
       "      <td>2099.0</td>\n",
       "      <td>1</td>\n",
       "      <td>SPYMBLONS1883GREY</td>\n",
       "      <td>Belts</td>\n",
       "      <td>NaN</td>\n",
       "      <td>NaN</td>\n",
       "      <td>Core</td>\n",
       "      <td>...</td>\n",
       "      <td>Casual</td>\n",
       "      <td>Men</td>\n",
       "      <td>NaN</td>\n",
       "      <td>NaN</td>\n",
       "      <td>NaN</td>\n",
       "      <td>Spykar</td>\n",
       "      <td>NaN</td>\n",
       "      <td>2022-02-18</td>\n",
       "      <td>0</td>\n",
       "      <td>2099.0</td>\n",
       "    </tr>\n",
       "    <tr>\n",
       "      <th>1</th>\n",
       "      <td>2021-02-05</td>\n",
       "      <td>12014</td>\n",
       "      <td>8901241000656</td>\n",
       "      <td>2099.0</td>\n",
       "      <td>1</td>\n",
       "      <td>SPYMBLONS1883GREY</td>\n",
       "      <td>Belts</td>\n",
       "      <td>Accessories</td>\n",
       "      <td>Belts, Ties &amp; Add-ons</td>\n",
       "      <td>Core</td>\n",
       "      <td>...</td>\n",
       "      <td>Casual</td>\n",
       "      <td>Men</td>\n",
       "      <td>NaN</td>\n",
       "      <td>NaN</td>\n",
       "      <td>NaN</td>\n",
       "      <td>Spykar</td>\n",
       "      <td>NaN</td>\n",
       "      <td>2021-02-05</td>\n",
       "      <td>0</td>\n",
       "      <td>2099.0</td>\n",
       "    </tr>\n",
       "    <tr>\n",
       "      <th>2</th>\n",
       "      <td>2021-06-10</td>\n",
       "      <td>10514</td>\n",
       "      <td>8901241000656</td>\n",
       "      <td>2099.0</td>\n",
       "      <td>1</td>\n",
       "      <td>SPYMBLONS1883GREY</td>\n",
       "      <td>Belts</td>\n",
       "      <td>Accessories</td>\n",
       "      <td>Belts, Ties &amp; Add-ons</td>\n",
       "      <td>Core</td>\n",
       "      <td>...</td>\n",
       "      <td>Casual</td>\n",
       "      <td>Men</td>\n",
       "      <td>NaN</td>\n",
       "      <td>NaN</td>\n",
       "      <td>NaN</td>\n",
       "      <td>Spykar</td>\n",
       "      <td>NaN</td>\n",
       "      <td>2021-02-05</td>\n",
       "      <td>125</td>\n",
       "      <td>2099.0</td>\n",
       "    </tr>\n",
       "    <tr>\n",
       "      <th>3</th>\n",
       "      <td>2021-02-12</td>\n",
       "      <td>11906</td>\n",
       "      <td>8901241000717</td>\n",
       "      <td>2099.0</td>\n",
       "      <td>1</td>\n",
       "      <td>SPYMBLONS1882BROWN</td>\n",
       "      <td>Belts</td>\n",
       "      <td>Accessories</td>\n",
       "      <td>Belts, Ties &amp; Add-ons</td>\n",
       "      <td>All Season</td>\n",
       "      <td>...</td>\n",
       "      <td>Casual</td>\n",
       "      <td>Men</td>\n",
       "      <td>NaN</td>\n",
       "      <td>NaN</td>\n",
       "      <td>NaN</td>\n",
       "      <td>Spykar</td>\n",
       "      <td>NaN</td>\n",
       "      <td>2021-02-12</td>\n",
       "      <td>0</td>\n",
       "      <td>2099.0</td>\n",
       "    </tr>\n",
       "    <tr>\n",
       "      <th>4</th>\n",
       "      <td>2021-02-24</td>\n",
       "      <td>12014</td>\n",
       "      <td>8901241000717</td>\n",
       "      <td>1259.0</td>\n",
       "      <td>1</td>\n",
       "      <td>SPYMBLONS1882BROWN</td>\n",
       "      <td>Belts</td>\n",
       "      <td>Accessories</td>\n",
       "      <td>Belts, Ties &amp; Add-ons</td>\n",
       "      <td>All Season</td>\n",
       "      <td>...</td>\n",
       "      <td>Casual</td>\n",
       "      <td>Men</td>\n",
       "      <td>NaN</td>\n",
       "      <td>NaN</td>\n",
       "      <td>NaN</td>\n",
       "      <td>Spykar</td>\n",
       "      <td>NaN</td>\n",
       "      <td>2021-02-12</td>\n",
       "      <td>12</td>\n",
       "      <td>2099.0</td>\n",
       "    </tr>\n",
       "  </tbody>\n",
       "</table>\n",
       "<p>5 rows × 25 columns</p>\n",
       "</div>"
      ],
      "text/plain": [
       "  placed_date  store_id        item_id     mrp  qty           item_code  \\\n",
       "0  2022-02-18      9908  8901241000649  2099.0    1   SPYMBLONS1883GREY   \n",
       "1  2021-02-05     12014  8901241000656  2099.0    1   SPYMBLONS1883GREY   \n",
       "2  2021-06-10     10514  8901241000656  2099.0    1   SPYMBLONS1883GREY   \n",
       "3  2021-02-12     11906  8901241000717  2099.0    1  SPYMBLONS1882BROWN   \n",
       "4  2021-02-24     12014  8901241000717  1259.0    1  SPYMBLONS1882BROWN   \n",
       "\n",
       "  l1_category  l0_category            l2_category      season  ...  \\\n",
       "0       Belts          NaN                    NaN        Core  ...   \n",
       "1       Belts  Accessories  Belts, Ties & Add-ons        Core  ...   \n",
       "2       Belts  Accessories  Belts, Ties & Add-ons        Core  ...   \n",
       "3       Belts  Accessories  Belts, Ties & Add-ons  All Season  ...   \n",
       "4       Belts  Accessories  Belts, Ties & Add-ons  All Season  ...   \n",
       "\n",
       "  item_occasion item_gender item_neck_type item_sleeve_length  \\\n",
       "0        Casual         Men            NaN                NaN   \n",
       "1        Casual         Men            NaN                NaN   \n",
       "2        Casual         Men            NaN                NaN   \n",
       "3        Casual         Men            NaN                NaN   \n",
       "4        Casual         Men            NaN                NaN   \n",
       "\n",
       "  item_topwear_length item_brand_name item_age_group  \\\n",
       "0                 NaN          Spykar            NaN   \n",
       "1                 NaN          Spykar            NaN   \n",
       "2                 NaN          Spykar            NaN   \n",
       "3                 NaN          Spykar            NaN   \n",
       "4                 NaN          Spykar            NaN   \n",
       "\n",
       "  initial_introduction_date days_since_introduction initial_mrp  \n",
       "0                2022-02-18                       0      2099.0  \n",
       "1                2021-02-05                       0      2099.0  \n",
       "2                2021-02-05                     125      2099.0  \n",
       "3                2021-02-12                       0      2099.0  \n",
       "4                2021-02-12                      12      2099.0  \n",
       "\n",
       "[5 rows x 25 columns]"
      ]
     },
     "execution_count": 3,
     "metadata": {},
     "output_type": "execute_result"
    }
   ],
   "source": [
    "data.head()"
   ]
  },
  {
   "cell_type": "code",
   "execution_count": 4,
   "id": "08646e6d-6bd6-458b-8b76-1a91c07d4bbf",
   "metadata": {
    "tags": []
   },
   "outputs": [
    {
     "name": "stdout",
     "output_type": "stream",
     "text": [
      "<class 'pandas.core.frame.DataFrame'>\n",
      "RangeIndex: 567675 entries, 0 to 567674\n",
      "Data columns (total 25 columns):\n",
      " #   Column                     Non-Null Count   Dtype  \n",
      "---  ------                     --------------   -----  \n",
      " 0   placed_date                567675 non-null  object \n",
      " 1   store_id                   567675 non-null  int64  \n",
      " 2   item_id                    567675 non-null  int64  \n",
      " 3   mrp                        567675 non-null  float64\n",
      " 4   qty                        567675 non-null  int64  \n",
      " 5   item_code                  567675 non-null  object \n",
      " 6   l1_category                567675 non-null  object \n",
      " 7   l0_category                566866 non-null  object \n",
      " 8   l2_category                566866 non-null  object \n",
      " 9   season                     533819 non-null  object \n",
      " 10  item_colour                562314 non-null  object \n",
      " 11  item_pattern               455599 non-null  object \n",
      " 12  item_primary_color         567675 non-null  object \n",
      " 13  item_primary_material      524138 non-null  object \n",
      " 14  item_product_fit           428432 non-null  object \n",
      " 15  item_occasion              541620 non-null  object \n",
      " 16  item_gender                567633 non-null  object \n",
      " 17  item_neck_type             216819 non-null  object \n",
      " 18  item_sleeve_length         216474 non-null  object \n",
      " 19  item_topwear_length        187643 non-null  object \n",
      " 20  item_brand_name            567675 non-null  object \n",
      " 21  item_age_group             7928 non-null    object \n",
      " 22  initial_introduction_date  567675 non-null  object \n",
      " 23  days_since_introduction    567675 non-null  int64  \n",
      " 24  initial_mrp                567675 non-null  float64\n",
      "dtypes: float64(2), int64(4), object(19)\n",
      "memory usage: 108.3+ MB\n"
     ]
    }
   ],
   "source": [
    "data.info()"
   ]
  },
  {
   "cell_type": "code",
   "execution_count": 5,
   "id": "2a98b250-5748-444c-9d2f-8d29a7e7b92a",
   "metadata": {
    "tags": []
   },
   "outputs": [],
   "source": [
    "data[\"placed_date\"]=pd.to_datetime(data[\"placed_date\"],format='%Y-%m-%d')"
   ]
  },
  {
   "cell_type": "code",
   "execution_count": 6,
   "id": "0e28ba2e-9fc9-4f18-840e-eaa03eddeb52",
   "metadata": {
    "tags": []
   },
   "outputs": [],
   "source": [
    "data[\"initial_introduction_date\"]=pd.to_datetime(data[\"initial_introduction_date\"],format='%Y-%m-%d')"
   ]
  },
  {
   "cell_type": "code",
   "execution_count": 7,
   "id": "f2f82e19-71c6-4f33-88ad-8035e89c5e4f",
   "metadata": {
    "tags": []
   },
   "outputs": [
    {
     "name": "stdout",
     "output_type": "stream",
     "text": [
      "<class 'pandas.core.frame.DataFrame'>\n",
      "RangeIndex: 567675 entries, 0 to 567674\n",
      "Data columns (total 25 columns):\n",
      " #   Column                     Non-Null Count   Dtype         \n",
      "---  ------                     --------------   -----         \n",
      " 0   placed_date                567675 non-null  datetime64[ns]\n",
      " 1   store_id                   567675 non-null  int64         \n",
      " 2   item_id                    567675 non-null  int64         \n",
      " 3   mrp                        567675 non-null  float64       \n",
      " 4   qty                        567675 non-null  int64         \n",
      " 5   item_code                  567675 non-null  object        \n",
      " 6   l1_category                567675 non-null  object        \n",
      " 7   l0_category                566866 non-null  object        \n",
      " 8   l2_category                566866 non-null  object        \n",
      " 9   season                     533819 non-null  object        \n",
      " 10  item_colour                562314 non-null  object        \n",
      " 11  item_pattern               455599 non-null  object        \n",
      " 12  item_primary_color         567675 non-null  object        \n",
      " 13  item_primary_material      524138 non-null  object        \n",
      " 14  item_product_fit           428432 non-null  object        \n",
      " 15  item_occasion              541620 non-null  object        \n",
      " 16  item_gender                567633 non-null  object        \n",
      " 17  item_neck_type             216819 non-null  object        \n",
      " 18  item_sleeve_length         216474 non-null  object        \n",
      " 19  item_topwear_length        187643 non-null  object        \n",
      " 20  item_brand_name            567675 non-null  object        \n",
      " 21  item_age_group             7928 non-null    object        \n",
      " 22  initial_introduction_date  567675 non-null  datetime64[ns]\n",
      " 23  days_since_introduction    567675 non-null  int64         \n",
      " 24  initial_mrp                567675 non-null  float64       \n",
      "dtypes: datetime64[ns](2), float64(2), int64(4), object(17)\n",
      "memory usage: 108.3+ MB\n"
     ]
    }
   ],
   "source": [
    "data.info()"
   ]
  },
  {
   "cell_type": "code",
   "execution_count": 12,
   "id": "d31ca3e1-68fc-4e37-acb1-8984b1bbbcec",
   "metadata": {
    "tags": []
   },
   "outputs": [
    {
     "data": {
      "text/html": [
       "<div>\n",
       "<style scoped>\n",
       "    .dataframe tbody tr th:only-of-type {\n",
       "        vertical-align: middle;\n",
       "    }\n",
       "\n",
       "    .dataframe tbody tr th {\n",
       "        vertical-align: top;\n",
       "    }\n",
       "\n",
       "    .dataframe thead th {\n",
       "        text-align: right;\n",
       "    }\n",
       "</style>\n",
       "<table border=\"1\" class=\"dataframe\">\n",
       "  <thead>\n",
       "    <tr style=\"text-align: right;\">\n",
       "      <th></th>\n",
       "      <th>mrp</th>\n",
       "      <th>initial_mrp</th>\n",
       "      <th>qty</th>\n",
       "    </tr>\n",
       "  </thead>\n",
       "  <tbody>\n",
       "    <tr>\n",
       "      <th>count</th>\n",
       "      <td>567675.000000</td>\n",
       "      <td>567675.000000</td>\n",
       "      <td>567675.000000</td>\n",
       "    </tr>\n",
       "    <tr>\n",
       "      <th>mean</th>\n",
       "      <td>2274.381930</td>\n",
       "      <td>2264.494499</td>\n",
       "      <td>1.144812</td>\n",
       "    </tr>\n",
       "    <tr>\n",
       "      <th>std</th>\n",
       "      <td>1209.179846</td>\n",
       "      <td>1211.759809</td>\n",
       "      <td>0.788018</td>\n",
       "    </tr>\n",
       "    <tr>\n",
       "      <th>min</th>\n",
       "      <td>99.000000</td>\n",
       "      <td>99.000000</td>\n",
       "      <td>1.000000</td>\n",
       "    </tr>\n",
       "    <tr>\n",
       "      <th>25%</th>\n",
       "      <td>1399.000000</td>\n",
       "      <td>1399.000000</td>\n",
       "      <td>1.000000</td>\n",
       "    </tr>\n",
       "    <tr>\n",
       "      <th>50%</th>\n",
       "      <td>2299.000000</td>\n",
       "      <td>2299.000000</td>\n",
       "      <td>1.000000</td>\n",
       "    </tr>\n",
       "    <tr>\n",
       "      <th>75%</th>\n",
       "      <td>2999.000000</td>\n",
       "      <td>2999.000000</td>\n",
       "      <td>1.000000</td>\n",
       "    </tr>\n",
       "    <tr>\n",
       "      <th>max</th>\n",
       "      <td>7149.000000</td>\n",
       "      <td>7149.000000</td>\n",
       "      <td>189.000000</td>\n",
       "    </tr>\n",
       "  </tbody>\n",
       "</table>\n",
       "</div>"
      ],
      "text/plain": [
       "                 mrp    initial_mrp            qty\n",
       "count  567675.000000  567675.000000  567675.000000\n",
       "mean     2274.381930    2264.494499       1.144812\n",
       "std      1209.179846    1211.759809       0.788018\n",
       "min        99.000000      99.000000       1.000000\n",
       "25%      1399.000000    1399.000000       1.000000\n",
       "50%      2299.000000    2299.000000       1.000000\n",
       "75%      2999.000000    2999.000000       1.000000\n",
       "max      7149.000000    7149.000000     189.000000"
      ]
     },
     "execution_count": 12,
     "metadata": {},
     "output_type": "execute_result"
    }
   ],
   "source": [
    "data[['mrp','initial_mrp','qty']].describe()"
   ]
  },
  {
   "cell_type": "code",
   "execution_count": 17,
   "id": "81f1dfcc-c4e6-4056-bc91-77e97ebed402",
   "metadata": {
    "tags": []
   },
   "outputs": [
    {
     "data": {
      "text/plain": [
       "item_age_group               0.986034\n",
       "item_topwear_length          0.669453\n",
       "item_sleeve_length           0.618666\n",
       "item_neck_type               0.618058\n",
       "item_product_fit             0.245286\n",
       "item_pattern                 0.197430\n",
       "item_primary_material        0.076694\n",
       "season                       0.059640\n",
       "item_occasion                0.045898\n",
       "item_colour                  0.009444\n",
       "l2_category                  0.001425\n",
       "l0_category                  0.001425\n",
       "item_gender                  0.000074\n",
       "item_brand_name              0.000000\n",
       "initial_introduction_date    0.000000\n",
       "days_since_introduction      0.000000\n",
       "placed_date                  0.000000\n",
       "item_primary_color           0.000000\n",
       "store_id                     0.000000\n",
       "l1_category                  0.000000\n",
       "item_code                    0.000000\n",
       "qty                          0.000000\n",
       "mrp                          0.000000\n",
       "item_id                      0.000000\n",
       "initial_mrp                  0.000000\n",
       "dtype: float64"
      ]
     },
     "execution_count": 17,
     "metadata": {},
     "output_type": "execute_result"
    }
   ],
   "source": [
    "(data.isnull().sum()/len(data)).sort_values(ascending=False)"
   ]
  },
  {
   "cell_type": "code",
   "execution_count": 39,
   "id": "4e44a645-c4f8-4706-a33e-118c2f745d8f",
   "metadata": {
    "tags": []
   },
   "outputs": [],
   "source": [
    "num_cols=data.select_dtypes(include=['number']).columns\n",
    "cat_cols=data.select_dtypes(include=['object']).columns"
   ]
  },
  {
   "cell_type": "code",
   "execution_count": 40,
   "id": "ee92004b-65a6-41c5-b700-613cfcd3c5fc",
   "metadata": {
    "tags": []
   },
   "outputs": [],
   "source": [
    "num_cols=num_cols.drop(['store_id', 'item_id'])"
   ]
  },
  {
   "cell_type": "code",
   "execution_count": 41,
   "id": "662bbcc5-4dcc-4020-8afc-e53ae100d7bf",
   "metadata": {
    "tags": []
   },
   "outputs": [
    {
     "data": {
      "text/plain": [
       "Index(['mrp', 'qty', 'days_since_introduction', 'initial_mrp'], dtype='object')"
      ]
     },
     "execution_count": 41,
     "metadata": {},
     "output_type": "execute_result"
    }
   ],
   "source": [
    "num_cols"
   ]
  },
  {
   "cell_type": "code",
   "execution_count": 42,
   "id": "bf84faed-3ea6-4225-9cb8-ce1c80863b5e",
   "metadata": {
    "tags": []
   },
   "outputs": [
    {
     "data": {
      "text/plain": [
       "Index(['item_code', 'l1_category', 'l0_category', 'l2_category', 'season',\n",
       "       'item_colour', 'item_pattern', 'item_primary_color',\n",
       "       'item_primary_material', 'item_product_fit', 'item_occasion',\n",
       "       'item_gender', 'item_neck_type', 'item_sleeve_length',\n",
       "       'item_topwear_length', 'item_brand_name', 'item_age_group'],\n",
       "      dtype='object')"
      ]
     },
     "execution_count": 42,
     "metadata": {},
     "output_type": "execute_result"
    }
   ],
   "source": [
    "cat_cols"
   ]
  },
  {
   "cell_type": "code",
   "execution_count": 43,
   "id": "c701bcf3-84c8-4237-b052-7bed54a927f3",
   "metadata": {
    "tags": []
   },
   "outputs": [
    {
     "data": {
      "image/png": "[encoded data removed]",
      "text/plain": [
       "<Figure size 1200x800 with 4 Axes>"
      ]
     },
     "metadata": {},
     "output_type": "display_data"
    }
   ],
   "source": [
    "# Histograms for numerical columns\n",
    "data[num_cols].hist(figsize=(12, 8))\n",
    "plt.show()"
   ]
  },
  {
   "cell_type": "code",
   "execution_count": null,
   "id": "637176c9-2e15-45e1-acfe-042669a6d5f8",
   "metadata": {},
   "outputs": [],
   "source": []
  }
 ],
 "metadata": {
  "kernelspec": {
   "display_name": "Python 3 (ipykernel)",
   "language": "python",
   "name": "python3"
  },
  "language_info": {
   "codemirror_mode": {
    "name": "ipython",
    "version": 3
   },
   "file_extension": ".py",
   "mimetype": "text/x-python",
   "name": "python",
   "nbconvert_exporter": "python",
   "pygments_lexer": "ipython3",
   "version": "3.11.3"
  }
 },
 "nbformat": 4,
 "nbformat_minor": 5
}
